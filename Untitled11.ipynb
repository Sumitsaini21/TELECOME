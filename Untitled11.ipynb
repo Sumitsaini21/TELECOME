{
  "nbformat": 4,
  "nbformat_minor": 0,
  "metadata": {
    "colab": {
      "provenance": [],
      "authorship_tag": "ABX9TyM8Dkc6SNyFCS9bJP5aRrsC",
      "include_colab_link": true
    },
    "kernelspec": {
      "name": "python3",
      "display_name": "Python 3"
    },
    "language_info": {
      "name": "python"
    }
  },
  "cells": [
    {
      "cell_type": "markdown",
      "metadata": {
        "id": "view-in-github",
        "colab_type": "text"
      },
      "source": [
        "<a href=\"https://colab.research.google.com/github/Sumitsaini21/TELECOME/blob/main/Untitled11.ipynb\" target=\"_parent\"><img src=\"https://colab.research.google.com/assets/colab-badge.svg\" alt=\"Open In Colab\"/></a>"
      ]
    },
    {
      "cell_type": "code",
      "execution_count": null,
      "metadata": {
        "colab": {
          "base_uri": "https://localhost:8080/"
        },
        "id": "RkwxcdLNx5Ob",
        "outputId": "f0f30e75-68fa-4113-851e-7a36e408de26"
      },
      "outputs": [
        {
          "name": "stdout",
          "output_type": "stream",
          "text": [
            "Enter student Name: sk\n",
            "Enter student age: 34\n",
            "Enter student Rollno:455\n",
            "Enter student Name: sumit\n"
          ]
        }
      ],
      "source": [
        "def accept_students():\n",
        "    students = []\n",
        "    for i in range(2):\n",
        "        name = input(\"Enter student Name: \")\n",
        "        age = input(\"Enter student age: \")\n",
        "        Rollno = input(\"Enter student Rollno:\")\n",
        "        students.append({\"name\": name, \"age\": age, \"Rollno\": Rollno})\n",
        "    return students\n",
        "\n",
        "def display_students(students):\n",
        "    for student in students:\n",
        "        print(\"Name:\", student[\"name\"])\n",
        "        print(\"Age:\", student[\"age\"])\n",
        "        print(\"Rollno:\", student[\"Rollno\"])\n",
        "        print()\n",
        "\n",
        "def search_student(students, name):\n",
        "    for student in students:\n",
        "        if student[\"name\"] == name:\n",
        "            return student\n",
        "    return None\n",
        "\n",
        "def delete_student(students, Rollno):\n",
        "    for student in students:\n",
        "        if student[\"Rollno\"] == Rollno:\n",
        "            students.remove(student)\n",
        "            return True\n",
        "    return False\n",
        "\n",
        "students = accept_students()\n",
        "\n",
        "display_students(students)\n",
        "\n",
        "search_name = input(\"Enter the Name of the student to search for :- \")\n",
        "found_student = search_student(students, search_name)\n",
        "if found_student:\n",
        "    print(\"Student found:\")\n",
        "    print(\"Name:\", found_student[\"name\"])\n",
        "    print(\"Age:\", found_student[\"age\"])\n",
        "    print(\"Rollno:\", found_student[\"Rollno\"])\n",
        "else:\n",
        "    print(\"Student not found.\")\n",
        "\n",
        "delete_rollno = input(\"Enter the Roll number of the student to delete :- \")\n",
        "if delete_student(students, delete_rollno):\n",
        "    print(\"Student deleted successfully.\")\n",
        "else:\n",
        "    print(\"Student not found.\")\n",
        "\n",
        "display_students(students)"
      ]
    }
  ]
}